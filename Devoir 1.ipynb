{
 "cells": [
  {
   "cell_type": "markdown",
   "metadata": {},
   "source": [
    "Nom         : \n",
    "Prenom      : \n",
    "N. Etudiant : "
   ]
  },
  {
   "cell_type": "markdown",
   "metadata": {},
   "source": [
    "# Exercice 1: feu rouge\n",
    "\n",
    "Coder une fonction `feu_rouge` avec un paramètre `couleur` qui *renvoie*:\n",
    "\n",
    "- `\"stop\"` si c'est `\"rouge\"`\n",
    "- `\"ralentir\"` si c'est `\"orange\"`\n",
    "- `\"passer\"` si c'est `\"vert\"`"
   ]
  },
  {
   "cell_type": "code",
   "execution_count": 1,
   "metadata": {},
   "outputs": [
    {
     "name": "stdout",
     "output_type": "stream",
     "text": [
      "False\n",
      "True\n"
     ]
    }
   ],
   "source": [
    "## Excercice 1: votre code ici\n",
    "def feu_rouge (couleur):\n",
    "    if couleur == \"rouge\":\n",
    "        return \"stop\"\n",
    "    if couleur == \"orange\":\n",
    "        return \"ralentir\"\n",
    "    if couleur == \"vert\":\n",
    "        return \"passer\"\n",
    "    else:\n",
    "        print (\"ce n'est pas une couleur beaucoup couleurs utilisée\")\n",
    "        \n",
    "        \n",
    "print (3==4)\n",
    "print (feu_rouge(\"rouge\")==\"stop\")\n"
   ]
  },
  {
   "cell_type": "markdown",
   "metadata": {},
   "source": [
    "_Pour vous aider, je mets ici le code permettant de tester votre fonction._"
   ]
  },
  {
   "cell_type": "code",
   "execution_count": 2,
   "metadata": {
    "scrolled": true
   },
   "outputs": [
    {
     "name": "stdout",
     "output_type": "stream",
     "text": [
      "True\n",
      "True\n",
      "True\n",
      "ce n'est pas une couleur beaucoup couleurs utilisée\n",
      "None\n"
     ]
    }
   ],
   "source": [
    "## Code de test\n",
    "##feu_rouge = \n",
    "\n",
    "print (feu_rouge(\"rouge\")==\"stop\")\n",
    "print (feu_rouge(\"orange\")==\"ralentir\")\n",
    "print (feu_rouge(\"vert\")==\"passer\")\n",
    "print (feu_rouge(42))"
   ]
  },
  {
   "cell_type": "markdown",
   "metadata": {},
   "source": [
    "# Exercice 2: matrices\n",
    "\n",
    "Nous avons vu dans le cours qu'une matrice peut être représentée par une liste de listes.\n",
    "\n",
    "Exemple:\n",
    "\n",
    "```python\n",
    "M = [[1,  2,  3,  4],\n",
    "     [5,  6,  7,  8],\n",
    "     [9, 10, 11, 12]]\n",
    "```\n",
    "\n",
    "1. Remplir l’équivalent de la matrice ci-dessus en partant de `M = []` à l'aide de boucles et en utilisant la méthode `append`.\n",
    "2. Définir une fonction `col(mat, j)` permettant de récupérer une colonne de la matrice. Par exemple `col(M, 1)` renverra `[2, 6, 10]`.\n",
    "3. Coder la *transposition* de la matrice: les lignes deviennent des colonnes et vice-versa."
   ]
  },
  {
   "cell_type": "code",
   "execution_count": 3,
   "metadata": {},
   "outputs": [
    {
     "name": "stdout",
     "output_type": "stream",
     "text": [
      "[1, 2, 3, 4]\n",
      "[5, 6, 7, 8]\n",
      "[9, 10, 11, 12]\n",
      "....................................................\n",
      "[[1, 2, 3, 4], [5, 6, 7, 8], [9, 10, 11, 12]]\n"
     ]
    }
   ],
   "source": [
    "## Exercice 2\n",
    "\n",
    "M = []\n",
    "\n",
    "# partie 1\n",
    "for i in range(0,3):\n",
    "    M.append([])\n",
    "    for j in range(0,4):\n",
    "        M[i].append(4*i+j+1)\n",
    "i = 0\n",
    "while i<3:\n",
    "    print (M[i])\n",
    "    i+=1\n",
    "print(\"....................................................\")\n",
    "print (M)"
   ]
  },
  {
   "cell_type": "code",
   "execution_count": 4,
   "metadata": {},
   "outputs": [
    {
     "name": "stdout",
     "output_type": "stream",
     "text": [
      "[2, 6, 10]\n"
     ]
    }
   ],
   "source": [
    "# partie 2\n",
    "def col(mat, l):\n",
    "    N = []\n",
    "    for x in range(0,len(M)):\n",
    "        N.append(M[x][l])\n",
    "    return N\n",
    "##print (N)\n",
    "print(col(M,1))"
   ]
  },
  {
   "cell_type": "code",
   "execution_count": 5,
   "metadata": {},
   "outputs": [
    {
     "name": "stdout",
     "output_type": "stream",
     "text": [
      "[[1, 5, 9], [2, 6, 10], [3, 7, 11], [4, 8, 12]]\n"
     ]
    }
   ],
   "source": [
    "# partie 3\n",
    "\n",
    "T = [[M[j][i] for j in range(len(M))] for i in range(len(M[0]))]\n",
    "\n",
    "print (T)"
   ]
  },
  {
   "cell_type": "markdown",
   "metadata": {},
   "source": [
    "# Exercice 3: fréquence de lettres\n",
    "\n",
    "Soit le texte suivant:"
   ]
  },
  {
   "cell_type": "code",
   "execution_count": 6,
   "metadata": {},
   "outputs": [],
   "source": [
    "texte = \"\"\"\\\n",
    "La cigale ayant chanté\n",
    "Tout l'été,\n",
    "Se trouva fort dépourvue\n",
    "Quand la bise fut venue.\n",
    "Pas un seul petit morceau\n",
    "De mouche ou de vermisseau.\n",
    "Elle alla crier famine\n",
    "Chez la Fourmi sa voisine,\n",
    "La priant de lui prêter\n",
    "Quelque grain pour subsister\n",
    "Jusqu'à la saison nouvelle.\n",
    "Je vous paierai, lui dit-elle,\n",
    "Avant l’août, foi d'animal,\n",
    "Intérêt et principal.\n",
    "La Fourmi n'est pas prêteuse,\n",
    "C'est là son moindre défaut.\n",
    "Que faisiez-vous au temps chaud ?\n",
    "Dit-elle à cette emprunteuse.\n",
    "Nuit et jour à tout venant,\n",
    "Je chantais, ne vous déplaise.\n",
    "Vous chantiez ? j'en suis fort aise,\n",
    "Eh bien! dansez maintenant.\"\"\""
   ]
  },
  {
   "cell_type": "markdown",
   "metadata": {},
   "source": [
    "On souhaite effectuer des statistiques en comptant le nombre d’occurrence de chaque lettre.\n",
    "\n",
    "Pour cela, on peut utiliser un dictionnaire, avec les caractères rencontrés comme clés et le nombre de fois où chaque caractère est rencontré comme valeur."
   ]
  },
  {
   "cell_type": "code",
   "execution_count": 7,
   "metadata": {},
   "outputs": [
    {
     "name": "stdout",
     "output_type": "stream",
     "text": [
      "{'l': 27, 'a': 44, ' ': 79, 'c': 12, 'i': 36, 'g': 2, 'e': 59, 'y': 1, 'n': 31, 't': 38, 'h': 7, 'é': 7, '\\n': 21, 'o': 24, 'u': 39, \"'\": 6, ',': 10, 's': 32, 'r': 23, 'v': 12, 'f': 9, 'd': 13, 'p': 14, 'q': 5, 'b': 3, '.': 8, 'm': 11, 'z': 4, 'ê': 3, 'j': 5, 'à': 4, '-': 3, '’': 1, 'û': 1, '?': 2, '!': 1}\n"
     ]
    }
   ],
   "source": [
    "## Exercice 3\n",
    "\n",
    "freq = {}\n",
    "\n",
    "# votre code ici\n",
    "\n",
    "texte = texte.lower().strip()\n",
    "ma_liste = list(texte)\n",
    "\n",
    "for l in ma_liste:\n",
    "\n",
    "        if l in freq:\n",
    "            freq[l] +=1\n",
    "        else:\n",
    "            freq[l]= 1\n",
    "\n",
    "print (freq)"
   ]
  },
  {
   "cell_type": "code",
   "execution_count": 8,
   "metadata": {},
   "outputs": [
    {
     "name": "stdout",
     "output_type": "stream",
     "text": [
      "LETTRES\n",
      " nombre de \"a\"\t: 44\n",
      " nombre de \"à\"\t: 4\n",
      " nombre de \"e\"\t: 59\n",
      " nombre de \"é\"\t: 7\n",
      " nombre de \"ê\"\t: 3\n",
      " nombre de \"i\"\t: 36\n",
      " nombre de \"o\"\t: 24\n",
      " nombre de \"u\"\t: 39\n",
      " nombre de \"û\"\t: 1\n",
      " nombre de \"y\"\t: 1\n",
      " nombre de \"z\"\t: 4\n",
      "\n",
      "SIGNES\n",
      " nombre d'espaces\t: 79\n",
      " nombre de points\t: 8\n",
      " nombre de virgules\t: 10\n"
     ]
    }
   ],
   "source": [
    "# Tests (ajoutez ici les tests que vous voulez)\n",
    "\n",
    "print(\"LETTRES\")\n",
    "print(' nombre de \"a\"\\t:', freq.get('a', 0))\n",
    "print(' nombre de \"à\"\\t:', freq.get('à', 0))\n",
    "print(' nombre de \"e\"\\t:', freq.get('e', 0))\n",
    "print(' nombre de \"é\"\\t:', freq.get('é', 0))\n",
    "print(' nombre de \"ê\"\\t:', freq.get('ê', 0))\n",
    "print(' nombre de \"i\"\\t:', freq.get('i', 0))\n",
    "print(' nombre de \"o\"\\t:', freq.get('o', 0))\n",
    "print(' nombre de \"u\"\\t:', freq.get('u', 0))\n",
    "print(' nombre de \"û\"\\t:', freq.get('û', 0))\n",
    "print(' nombre de \"y\"\\t:', freq.get('y', 0))\n",
    "print(' nombre de \"z\"\\t:', freq.get('z', 0))\n",
    "print()\n",
    "print(\"SIGNES\")\n",
    "print(\" nombre d'espaces\\t:\", freq.get(' ', 0))\n",
    "print(\" nombre de points\\t:\", freq.get('.', 0))\n",
    "print(\" nombre de virgules\\t:\", freq.get(',', 0))"
   ]
  },
  {
   "cell_type": "code",
   "execution_count": null,
   "metadata": {},
   "outputs": [],
   "source": []
  }
 ],
 "metadata": {
  "kernelspec": {
   "display_name": "Python 3",
   "language": "python",
   "name": "python3"
  },
  "language_info": {
   "codemirror_mode": {
    "name": "ipython",
    "version": 3
   },
   "file_extension": ".py",
   "mimetype": "text/x-python",
   "name": "python",
   "nbconvert_exporter": "python",
   "pygments_lexer": "ipython3",
   "version": "3.7.1"
  }
 },
 "nbformat": 4,
 "nbformat_minor": 2
}
