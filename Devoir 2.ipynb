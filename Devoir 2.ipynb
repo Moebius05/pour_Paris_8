{
 "cells": [
  {
   "cell_type": "markdown",
   "metadata": {},
   "source": [
    "Nom         : Friedrich\n",
    "Prenom      : Paul\n",
    "N. Etudiant : "
   ]
  },
  {
   "cell_type": "markdown",
   "metadata": {},
   "source": [
    "# Exercice 1: sérialisation de liste\n",
    "\n",
    "On souhaite enregistrer une liste de mots dans un fichier afin de pouvoir la réutiliser plus tard.\n",
    "\n",
    "## Écriture\n",
    "\n",
    "Réaliser une fonction `write_list_to_file(wordlst, filename)` prenant comme paramètres une liste de mots `wordlst` et un nom de fichier `filename`,. La fonction devra stocker les mots de la liste dans un fichier (encodage UTF8), un mot par ligne."
   ]
  },
  {
   "cell_type": "code",
   "execution_count": 1,
   "metadata": {},
   "outputs": [],
   "source": [
    "   \n",
    "    # votre code ici\n",
    "\n",
    "def write_list_to_file(wordlist, filename):\n",
    "    file = open(filename, \"w+\")\n",
    "    file.write(str(wordlist))\n",
    "    file.close()\n",
    "    return\n",
    "    \n",
    "write_list_to_file([\"Jeder\", \"Mensch\", \"hat\", \"angeborne\", \"schon\", \"durch\", \"die\", \"Vernunft\", \"einleuchtende\", \"Rechte\", \"und\", \"ist\", \"daher\", \"als\", \"eine\", \"Person\", \"zu\", \"betrachten\", \"Sclaverey\", \"oder\", \"Leibeigenschaft\", \"und\", \"die\", \"Ausübung\", \"einer\", \"darauf\", \"sich\", \"beziehenden\", \"Macht\", \"wird\", \"in\", \"diesen\", \"Ländern\", \"nicht\", \"gestattet\"], \"mon_test.txt\")"
   ]
  },
  {
   "cell_type": "markdown",
   "metadata": {},
   "source": [
    "## Lecture\n",
    "\n",
    "Réaliser une fonction `read_list_from_file(filename)` permettant de récupérer la liste des mots originale à partir du fichier nommé `filename`."
   ]
  },
  {
   "cell_type": "code",
   "execution_count": 2,
   "metadata": {},
   "outputs": [],
   "source": [
    "\n",
    "\n",
    "\n",
    "    # votre code ici\n",
    "\n",
    "def read_list_from_file(filename):\n",
    "    file = open(filename, \"r\")\n",
    "    t =str(file.read())\n",
    "    file.close()\n",
    "    return t\n",
    "\n"
   ]
  },
  {
   "cell_type": "code",
   "execution_count": 3,
   "metadata": {},
   "outputs": [
    {
     "name": "stdout",
     "output_type": "stream",
     "text": [
      "['Jeder', 'Mensch', 'hat', 'angeborne', 'schon', 'durch', 'die', 'Vernunft', 'einleuchtende', 'Rechte', 'und', 'ist', 'daher', 'als', 'eine', 'Person', 'zu', 'betrachten', 'Sclaverey', 'oder', 'Leibeigenschaft', 'und', 'die', 'Ausübung', 'einer', 'darauf', 'sich', 'beziehenden', 'Macht', 'wird', 'in', 'diesen', 'Ländern', 'nicht', 'gestattet']\n"
     ]
    }
   ],
   "source": [
    "## Vos tests ici\n",
    "\n",
    "t = read_list_from_file(\"mon_test.txt\")\n",
    "print(t)"
   ]
  },
  {
   "cell_type": "markdown",
   "metadata": {},
   "source": [
    "# Exercice 2: conjugueur\n",
    "\n",
    "Soit la liste `ps` des pronoms personnels sujets, et la liste `ip1` des terminaisons des verbes du 1er groupe à l'indicatif présent."
   ]
  },
  {
   "cell_type": "code",
   "execution_count": 4,
   "metadata": {},
   "outputs": [],
   "source": [
    "ps = 'je tu il nous vous ils'.split()\n",
    "ip1 = 'e es e ons ez ent'.split()"
   ]
  },
  {
   "cell_type": "markdown",
   "metadata": {},
   "source": [
    "## Conjugue\n",
    "\n",
    "Définir `conjugue(v, n)` qui prend une chaîne telle que `v` et un nombre `n` entre 1 et 6 (la personne), et qui génère la forme conjuguée correspondante; par exemple:\n",
    "\n",
    "```pycon\n",
    ">>> conjugue('tirer', 4)\n",
    "'nous tirons'\n",
    "```"
   ]
  },
  {
   "cell_type": "code",
   "execution_count": 5,
   "metadata": {},
   "outputs": [],
   "source": [
    "\n",
    "    # votre code ici\n",
    "def conjugue(v, n):\n",
    "    print (ps[n-1] + \" \" + v[:-2] + ip1[n-1])    "
   ]
  },
  {
   "cell_type": "code",
   "execution_count": 6,
   "metadata": {},
   "outputs": [
    {
     "name": "stdout",
     "output_type": "stream",
     "text": [
      "ils parlent\n"
     ]
    }
   ],
   "source": [
    "## Tests de la fonction\n",
    "\n",
    "conjugue(\"parler\", 6)\n"
   ]
  },
  {
   "cell_type": "markdown",
   "metadata": {},
   "source": [
    "## Conjugaison\n",
    "\n",
    "A partir de l'exercice précédent, coder la conjugaison de `v`, générant la liste des 6 formes (par exemple: `['je tire', 'tu tires', 'il tire', …]`)."
   ]
  },
  {
   "cell_type": "code",
   "execution_count": 7,
   "metadata": {},
   "outputs": [],
   "source": [
    "#votre code ici\n",
    "def conjugaison(v):\n",
    "    for i in range(1,7):\n",
    "        conjugue(v,i)\n",
    "    return\n"
   ]
  },
  {
   "cell_type": "code",
   "execution_count": 8,
   "metadata": {},
   "outputs": [
    {
     "name": "stdout",
     "output_type": "stream",
     "text": [
      "je teste\n",
      "tu testes\n",
      "il teste\n",
      "nous testons\n",
      "vous testez\n",
      "ils testent\n"
     ]
    }
   ],
   "source": [
    "## Tests de la fonction\n",
    "\n",
    "conjugaison(\"tester\")\n"
   ]
  },
  {
   "cell_type": "markdown",
   "metadata": {},
   "source": [
    "# Exercice 3: pluriel de mots\n",
    "\n",
    "Coder une fonction `pluriel(mot)` pour former correctement le pluriel d'à peu près n'importe quel nom ou adjectif, majuscule ou minuscule.\n",
    "\n",
    "Si vous ne vous souvenez pas vraiment des règles, vous pouvez consulter la page de votre choix sur internet, par exemple [celle ci](https://leconjugueur.lefigaro.fr/fr_pluriel_nom.php)."
   ]
  },
  {
   "cell_type": "code",
   "execution_count": 9,
   "metadata": {},
   "outputs": [
    {
     "name": "stdout",
     "output_type": "stream",
     "text": [
      "...c'est difficile...\n"
     ]
    }
   ],
   "source": [
    "\n",
    "    # votre code ici\n",
    "def pluriel(mot):\n",
    "    if mot[-3:] == \"ail\":\n",
    "        print (mot[0:-3] + \"ails\")\n",
    "    elif mot[-2:] == \"al\":\n",
    "        print (mot[0:-2] + \"aux\")\n",
    "    elif mot[-2:] == \"au\" or mot[-2:] == \"eu\":\n",
    "        print (mot + \"x\")\n",
    "    elif mot[-2:] == \"ou\":\n",
    "        print (mot + \"s\")\n",
    "    elif mot[-1:] == \"z\" or mot[-1:] == \"s\" or mot[-1:] == \"x\":\n",
    "        print (mot)\n",
    "    else:\n",
    "        print(\"...c'est difficile...\")\n",
    "        \n",
    "        \n",
    "pluriel(\"oeil\")"
   ]
  },
  {
   "cell_type": "code",
   "execution_count": 10,
   "metadata": {},
   "outputs": [],
   "source": [
    "## Tests de la fonction\n",
    "\n",
    "tests = [\n",
    "    'corail', 'ail', 'détail',              # mots en ail\n",
    "    'canal', 'animal', 'bal', 'chacal',     # mots en al\n",
    "    'drapeau', 'tuyau', 'landau',           # mots en au\n",
    "    'cheveu', 'pneu', 'bleu',               # mots en eu\n",
    "    'sou', 'clou', 'pou', 'bijou',          # mots en ou\n",
    "    'nez', 'gaz',                           # mots en z\n",
    "    'bois', 'radis',                        # mots en s\n",
    "    'roux', 'faux', 'prix',                 # mots en x\n",
    "    'oeil', 'monsieur'                      # cas particuliers\n",
    "]\n"
   ]
  },
  {
   "cell_type": "markdown",
   "metadata": {},
   "source": [
    "## Script autonome\n",
    "\n",
    "Réaliser un script `pluriel.py`, capable de prendre plusieurs mots et d'afficher leur pluriel.\n",
    "\n",
    "Exemple:\n",
    "\n",
    "```\n",
    "$ plusieurs.py clou bleu rouillé\n",
    "clous\n",
    "bleus\n",
    "rouillés\n",
    "```"
   ]
  }
 ],
 "metadata": {
  "kernelspec": {
   "display_name": "Python 3",
   "language": "python",
   "name": "python3"
  },
  "language_info": {
   "codemirror_mode": {
    "name": "ipython",
    "version": 3
   },
   "file_extension": ".py",
   "mimetype": "text/x-python",
   "name": "python",
   "nbconvert_exporter": "python",
   "pygments_lexer": "ipython3",
   "version": "3.7.1"
  }
 },
 "nbformat": 4,
 "nbformat_minor": 2
}
